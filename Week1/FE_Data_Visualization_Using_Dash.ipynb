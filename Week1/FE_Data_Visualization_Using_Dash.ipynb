{
  "cells": [
    {
      "cell_type": "markdown",
      "metadata": {
        "id": "view-in-github",
        "colab_type": "text"
      },
      "source": [
        "<a href=\"https://colab.research.google.com/github/falawar7/AAI_634O/blob/main/Week1/FE_Data_Visualization_Using_Dash.ipynb\" target=\"_parent\"><img src=\"https://colab.research.google.com/assets/colab-badge.svg\" alt=\"Open In Colab\"/></a>"
      ]
    },
    {
      "cell_type": "markdown",
      "id": "36e769f0-3917-4286-b2c9-a41ae8f5a555",
      "metadata": {
        "id": "36e769f0-3917-4286-b2c9-a41ae8f5a555"
      },
      "source": [
        "# **Week 1 Hands-on Lab: Data Visualization using Dash**"
      ]
    },
    {
      "cell_type": "code",
      "execution_count": null,
      "id": "4eeeead6-c1bd-4648-a90f-c765b95d33ba",
      "metadata": {
        "colab": {
          "base_uri": "https://localhost:8080/"
        },
        "id": "4eeeead6-c1bd-4648-a90f-c765b95d33ba",
        "outputId": "df96a6ad-4874-412d-9234-51bbab2d5681"
      },
      "outputs": [
        {
          "name": "stdout",
          "output_type": "stream",
          "text": [
            "Requirement already satisfied: dash in c:\\users\\faisal\\appdata\\local\\programs\\python\\python312\\lib\\site-packages (2.18.2)\n",
            "Requirement already satisfied: dash-bootstrap-components in c:\\users\\faisal\\appdata\\local\\programs\\python\\python312\\lib\\site-packages (1.7.1)\n",
            "Requirement already satisfied: pandas in c:\\users\\faisal\\appdata\\local\\programs\\python\\python312\\lib\\site-packages (2.2.2)\n",
            "Requirement already satisfied: plotly in c:\\users\\faisal\\appdata\\local\\programs\\python\\python312\\lib\\site-packages (5.22.0)\n",
            "Requirement already satisfied: Flask<3.1,>=1.0.4 in c:\\users\\faisal\\appdata\\local\\programs\\python\\python312\\lib\\site-packages (from dash) (3.0.3)\n",
            "Requirement already satisfied: Werkzeug<3.1 in c:\\users\\faisal\\appdata\\local\\programs\\python\\python312\\lib\\site-packages (from dash) (3.0.3)\n",
            "Requirement already satisfied: dash-html-components==2.0.0 in c:\\users\\faisal\\appdata\\local\\programs\\python\\python312\\lib\\site-packages (from dash) (2.0.0)\n",
            "Requirement already satisfied: dash-core-components==2.0.0 in c:\\users\\faisal\\appdata\\local\\programs\\python\\python312\\lib\\site-packages (from dash) (2.0.0)\n",
            "Requirement already satisfied: dash-table==5.0.0 in c:\\users\\faisal\\appdata\\local\\programs\\python\\python312\\lib\\site-packages (from dash) (5.0.0)\n",
            "Requirement already satisfied: importlib-metadata in c:\\users\\faisal\\appdata\\local\\programs\\python\\python312\\lib\\site-packages (from dash) (8.0.0)\n",
            "Requirement already satisfied: typing-extensions>=4.1.1 in c:\\users\\faisal\\appdata\\local\\programs\\python\\python312\\lib\\site-packages (from dash) (4.12.2)\n",
            "Requirement already satisfied: requests in c:\\users\\faisal\\appdata\\local\\programs\\python\\python312\\lib\\site-packages (from dash) (2.32.3)\n",
            "Requirement already satisfied: retrying in c:\\users\\faisal\\appdata\\local\\programs\\python\\python312\\lib\\site-packages (from dash) (1.3.4)\n",
            "Requirement already satisfied: nest-asyncio in c:\\users\\faisal\\appdata\\local\\programs\\python\\python312\\lib\\site-packages (from dash) (1.6.0)\n",
            "Requirement already satisfied: setuptools in c:\\users\\faisal\\appdata\\local\\programs\\python\\python312\\lib\\site-packages (from dash) (70.2.0)\n",
            "Requirement already satisfied: numpy>=1.26.0 in c:\\users\\faisal\\appdata\\local\\programs\\python\\python312\\lib\\site-packages (from pandas) (1.26.4)\n",
            "Requirement already satisfied: python-dateutil>=2.8.2 in c:\\users\\faisal\\appdata\\local\\programs\\python\\python312\\lib\\site-packages (from pandas) (2.9.0.post0)\n",
            "Requirement already satisfied: pytz>=2020.1 in c:\\users\\faisal\\appdata\\local\\programs\\python\\python312\\lib\\site-packages (from pandas) (2024.1)\n",
            "Requirement already satisfied: tzdata>=2022.7 in c:\\users\\faisal\\appdata\\local\\programs\\python\\python312\\lib\\site-packages (from pandas) (2024.1)\n",
            "Requirement already satisfied: tenacity>=6.2.0 in c:\\users\\faisal\\appdata\\local\\programs\\python\\python312\\lib\\site-packages (from plotly) (8.5.0)\n",
            "Requirement already satisfied: packaging in c:\\users\\faisal\\appdata\\local\\programs\\python\\python312\\lib\\site-packages (from plotly) (24.1)\n",
            "Requirement already satisfied: Jinja2>=3.1.2 in c:\\users\\faisal\\appdata\\local\\programs\\python\\python312\\lib\\site-packages (from Flask<3.1,>=1.0.4->dash) (3.1.4)\n",
            "Requirement already satisfied: itsdangerous>=2.1.2 in c:\\users\\faisal\\appdata\\local\\programs\\python\\python312\\lib\\site-packages (from Flask<3.1,>=1.0.4->dash) (2.2.0)\n",
            "Requirement already satisfied: click>=8.1.3 in c:\\users\\faisal\\appdata\\local\\programs\\python\\python312\\lib\\site-packages (from Flask<3.1,>=1.0.4->dash) (8.1.7)\n",
            "Requirement already satisfied: blinker>=1.6.2 in c:\\users\\faisal\\appdata\\local\\programs\\python\\python312\\lib\\site-packages (from Flask<3.1,>=1.0.4->dash) (1.9.0)\n",
            "Requirement already satisfied: six>=1.5 in c:\\users\\faisal\\appdata\\local\\programs\\python\\python312\\lib\\site-packages (from python-dateutil>=2.8.2->pandas) (1.16.0)\n",
            "Requirement already satisfied: MarkupSafe>=2.1.1 in c:\\users\\faisal\\appdata\\local\\programs\\python\\python312\\lib\\site-packages (from Werkzeug<3.1->dash) (2.1.5)\n",
            "Requirement already satisfied: zipp>=0.5 in c:\\users\\faisal\\appdata\\local\\programs\\python\\python312\\lib\\site-packages (from importlib-metadata->dash) (3.19.2)\n",
            "Requirement already satisfied: charset-normalizer<4,>=2 in c:\\users\\faisal\\appdata\\local\\programs\\python\\python312\\lib\\site-packages (from requests->dash) (3.3.2)\n",
            "Requirement already satisfied: idna<4,>=2.5 in c:\\users\\faisal\\appdata\\local\\programs\\python\\python312\\lib\\site-packages (from requests->dash) (3.7)\n",
            "Requirement already satisfied: urllib3<3,>=1.21.1 in c:\\users\\faisal\\appdata\\local\\programs\\python\\python312\\lib\\site-packages (from requests->dash) (2.2.2)\n",
            "Requirement already satisfied: certifi>=2017.4.17 in c:\\users\\faisal\\appdata\\local\\programs\\python\\python312\\lib\\site-packages (from requests->dash) (2024.7.4)\n",
            "Requirement already satisfied: colorama in c:\\users\\faisal\\appdata\\local\\programs\\python\\python312\\lib\\site-packages (from click>=8.1.3->Flask<3.1,>=1.0.4->dash) (0.4.6)\n"
          ]
        },
        {
          "name": "stderr",
          "output_type": "stream",
          "text": [
            "WARNING: Ignoring invalid distribution ~atplotlib (C:\\Users\\Faisal\\AppData\\Local\\Programs\\Python\\Python312\\Lib\\site-packages)\n",
            "WARNING: Ignoring invalid distribution ~ensorflow-intel (C:\\Users\\Faisal\\AppData\\Local\\Programs\\Python\\Python312\\Lib\\site-packages)\n",
            "WARNING: Ignoring invalid distribution ~otebook (C:\\Users\\Faisal\\AppData\\Local\\Programs\\Python\\Python312\\Lib\\site-packages)\n",
            "WARNING: Ignoring invalid distribution ~atplotlib (C:\\Users\\Faisal\\AppData\\Local\\Programs\\Python\\Python312\\Lib\\site-packages)\n",
            "WARNING: Ignoring invalid distribution ~ensorflow-intel (C:\\Users\\Faisal\\AppData\\Local\\Programs\\Python\\Python312\\Lib\\site-packages)\n",
            "WARNING: Ignoring invalid distribution ~otebook (C:\\Users\\Faisal\\AppData\\Local\\Programs\\Python\\Python312\\Lib\\site-packages)\n",
            "WARNING: Ignoring invalid distribution ~atplotlib (C:\\Users\\Faisal\\AppData\\Local\\Programs\\Python\\Python312\\Lib\\site-packages)\n",
            "WARNING: Ignoring invalid distribution ~ensorflow-intel (C:\\Users\\Faisal\\AppData\\Local\\Programs\\Python\\Python312\\Lib\\site-packages)\n",
            "WARNING: Ignoring invalid distribution ~otebook (C:\\Users\\Faisal\\AppData\\Local\\Programs\\Python\\Python312\\Lib\\site-packages)\n"
          ]
        }
      ],
      "source": [
        "#installing the Librarries\n",
        "!pip install dash dash-bootstrap-components pandas plotly"
      ]
    },
    {
      "cell_type": "code",
      "execution_count": null,
      "id": "d371617a-fd8e-4e75-8b6f-d80bb295ff50",
      "metadata": {
        "id": "d371617a-fd8e-4e75-8b6f-d80bb295ff50"
      },
      "outputs": [],
      "source": [
        "#import librarries\n",
        "import dash\n",
        "from dash import dcc\n",
        "from dash import html\n",
        "from dash.dependencies import Input, Output\n",
        "import plotly.express as px\n",
        "import pandas as pd"
      ]
    },
    {
      "cell_type": "markdown",
      "id": "26df4fa3-0747-48de-8ac2-33e02f0e484c",
      "metadata": {
        "id": "26df4fa3-0747-48de-8ac2-33e02f0e484c"
      },
      "source": [
        "Downloaded the Dataset From [Kaggle](https://www.kaggle.com/code/fahadmehfoooz/world-happiness/input?select=world-happiness-report.csv) and Upload it to My [Github](https://github.com/falawar7/AAI_634O/blob/main/Week1/updated_world_happiness_report2.csv)\n",
        "\n",
        "The Dataset Didnt Have Content i have Geodecode the the COuntry Name to Continents"
      ]
    },
    {
      "cell_type": "code",
      "execution_count": null,
      "id": "e49d1e43-55ef-4a76-98b3-24ffe7027317",
      "metadata": {
        "colab": {
          "base_uri": "https://localhost:8080/",
          "height": 206
        },
        "id": "e49d1e43-55ef-4a76-98b3-24ffe7027317",
        "outputId": "05277fe3-4050-4770-832d-774dd2466d6f"
      },
      "outputs": [
        {
          "data": {
            "text/html": [
              "<div>\n",
              "<style scoped>\n",
              "    .dataframe tbody tr th:only-of-type {\n",
              "        vertical-align: middle;\n",
              "    }\n",
              "\n",
              "    .dataframe tbody tr th {\n",
              "        vertical-align: top;\n",
              "    }\n",
              "\n",
              "    .dataframe thead th {\n",
              "        text-align: right;\n",
              "    }\n",
              "</style>\n",
              "<table border=\"1\" class=\"dataframe\">\n",
              "  <thead>\n",
              "    <tr style=\"text-align: right;\">\n",
              "      <th></th>\n",
              "      <th>Country name</th>\n",
              "      <th>year</th>\n",
              "      <th>Life Ladder</th>\n",
              "      <th>Log GDP per capita</th>\n",
              "      <th>Social support</th>\n",
              "      <th>Healthy life expectancy at birth</th>\n",
              "      <th>Freedom to make life choices</th>\n",
              "      <th>Generosity</th>\n",
              "      <th>Perceptions of corruption</th>\n",
              "      <th>Positive affect</th>\n",
              "      <th>Negative affect</th>\n",
              "      <th>Continent</th>\n",
              "    </tr>\n",
              "  </thead>\n",
              "  <tbody>\n",
              "    <tr>\n",
              "      <th>0</th>\n",
              "      <td>Afghanistan</td>\n",
              "      <td>2008</td>\n",
              "      <td>3.724</td>\n",
              "      <td>7.370</td>\n",
              "      <td>0.451</td>\n",
              "      <td>50.80</td>\n",
              "      <td>0.718</td>\n",
              "      <td>0.168</td>\n",
              "      <td>0.882</td>\n",
              "      <td>0.518</td>\n",
              "      <td>0.258</td>\n",
              "      <td>Asia</td>\n",
              "    </tr>\n",
              "    <tr>\n",
              "      <th>1</th>\n",
              "      <td>Afghanistan</td>\n",
              "      <td>2009</td>\n",
              "      <td>4.402</td>\n",
              "      <td>7.540</td>\n",
              "      <td>0.552</td>\n",
              "      <td>51.20</td>\n",
              "      <td>0.679</td>\n",
              "      <td>0.190</td>\n",
              "      <td>0.850</td>\n",
              "      <td>0.584</td>\n",
              "      <td>0.237</td>\n",
              "      <td>Asia</td>\n",
              "    </tr>\n",
              "    <tr>\n",
              "      <th>2</th>\n",
              "      <td>Afghanistan</td>\n",
              "      <td>2010</td>\n",
              "      <td>4.758</td>\n",
              "      <td>7.647</td>\n",
              "      <td>0.539</td>\n",
              "      <td>51.60</td>\n",
              "      <td>0.600</td>\n",
              "      <td>0.121</td>\n",
              "      <td>0.707</td>\n",
              "      <td>0.618</td>\n",
              "      <td>0.275</td>\n",
              "      <td>Asia</td>\n",
              "    </tr>\n",
              "    <tr>\n",
              "      <th>3</th>\n",
              "      <td>Afghanistan</td>\n",
              "      <td>2011</td>\n",
              "      <td>3.832</td>\n",
              "      <td>7.620</td>\n",
              "      <td>0.521</td>\n",
              "      <td>51.92</td>\n",
              "      <td>0.496</td>\n",
              "      <td>0.162</td>\n",
              "      <td>0.731</td>\n",
              "      <td>0.611</td>\n",
              "      <td>0.267</td>\n",
              "      <td>Asia</td>\n",
              "    </tr>\n",
              "    <tr>\n",
              "      <th>4</th>\n",
              "      <td>Afghanistan</td>\n",
              "      <td>2012</td>\n",
              "      <td>3.783</td>\n",
              "      <td>7.705</td>\n",
              "      <td>0.521</td>\n",
              "      <td>52.24</td>\n",
              "      <td>0.531</td>\n",
              "      <td>0.236</td>\n",
              "      <td>0.776</td>\n",
              "      <td>0.710</td>\n",
              "      <td>0.268</td>\n",
              "      <td>Asia</td>\n",
              "    </tr>\n",
              "  </tbody>\n",
              "</table>\n",
              "</div>"
            ],
            "text/plain": [
              "  Country name  year  Life Ladder  Log GDP per capita  Social support  \\\n",
              "0  Afghanistan  2008        3.724               7.370           0.451   \n",
              "1  Afghanistan  2009        4.402               7.540           0.552   \n",
              "2  Afghanistan  2010        4.758               7.647           0.539   \n",
              "3  Afghanistan  2011        3.832               7.620           0.521   \n",
              "4  Afghanistan  2012        3.783               7.705           0.521   \n",
              "\n",
              "   Healthy life expectancy at birth  Freedom to make life choices  Generosity  \\\n",
              "0                             50.80                         0.718       0.168   \n",
              "1                             51.20                         0.679       0.190   \n",
              "2                             51.60                         0.600       0.121   \n",
              "3                             51.92                         0.496       0.162   \n",
              "4                             52.24                         0.531       0.236   \n",
              "\n",
              "   Perceptions of corruption  Positive affect  Negative affect Continent  \n",
              "0                      0.882            0.518            0.258      Asia  \n",
              "1                      0.850            0.584            0.237      Asia  \n",
              "2                      0.707            0.618            0.275      Asia  \n",
              "3                      0.731            0.611            0.267      Asia  \n",
              "4                      0.776            0.710            0.268      Asia  "
            ]
          },
          "execution_count": 73,
          "metadata": {},
          "output_type": "execute_result"
        }
      ],
      "source": [
        "#load dataset\n",
        "df = pd.read_csv(\"https://raw.githubusercontent.com/falawar7/AAI_634O/refs/heads/main/Week1/updated_world_happiness_report2.csv\")\n",
        "\n",
        "df.head()"
      ]
    },
    {
      "cell_type": "code",
      "execution_count": null,
      "id": "0a334b3a-9328-4208-8558-a2d0873330a0",
      "metadata": {
        "id": "0a334b3a-9328-4208-8558-a2d0873330a0"
      },
      "outputs": [],
      "source": [
        "# Initialize the Dash app\n",
        "app = dash.Dash(__name__)"
      ]
    },
    {
      "cell_type": "markdown",
      "source": [
        "# **Run This For Removing Invalid country name**"
      ],
      "metadata": {
        "id": "QrPbgZ0ukgq0"
      },
      "id": "QrPbgZ0ukgq0"
    },
    {
      "cell_type": "code",
      "execution_count": null,
      "id": "1e9bca81-0dbb-44e8-83ec-872c51c92744",
      "metadata": {
        "id": "1e9bca81-0dbb-44e8-83ec-872c51c92744",
        "outputId": "f91f1d35-1bfd-43c0-87c7-7cddc3223929"
      },
      "outputs": [
        {
          "name": "stdout",
          "output_type": "stream",
          "text": [
            "Unique country names: ['Asia' 'Europe' 'Africa' 'South America' 'Oceania' 'North America'\n",
            " 'Invalid country name']\n"
          ]
        }
      ],
      "source": [
        "unique_values = df['Continent'].unique()\n",
        "print(f\"Unique country names: {unique_values}\")"
      ]
    },
    {
      "cell_type": "code",
      "execution_count": null,
      "id": "72e389e9-e016-4acc-9e55-fa56a191f9df",
      "metadata": {
        "id": "72e389e9-e016-4acc-9e55-fa56a191f9df",
        "outputId": "f6c74098-0a89-4f59-a87d-7e8c6604ecdd"
      },
      "outputs": [
        {
          "name": "stdout",
          "output_type": "stream",
          "text": [
            "count     1949\n",
            "unique       7\n",
            "top       Asia\n",
            "freq       544\n",
            "Name: Continent, dtype: object\n"
          ]
        }
      ],
      "source": [
        "column_info = df['Continent'].describe()\n",
        "print(column_info)"
      ]
    },
    {
      "cell_type": "code",
      "execution_count": null,
      "id": "797aba1b-2383-499e-bf5e-fe657fc40aa1",
      "metadata": {
        "id": "797aba1b-2383-499e-bf5e-fe657fc40aa1",
        "outputId": "e752567e-a2c3-49d2-80e9-baa4c36dcdd6"
      },
      "outputs": [
        {
          "name": "stdout",
          "output_type": "stream",
          "text": [
            "Continent\n",
            "Asia                    544\n",
            "Europe                  521\n",
            "Africa                  456\n",
            "North America           170\n",
            "South America           149\n",
            "Invalid country name     81\n",
            "Oceania                  28\n",
            "Name: count, dtype: int64\n"
          ]
        }
      ],
      "source": [
        "value_counts = df['Continent'].value_counts()\n",
        "print(value_counts)\n"
      ]
    },
    {
      "cell_type": "code",
      "execution_count": null,
      "id": "d84d2a70-92ad-4d4d-a104-fe57c1835622",
      "metadata": {
        "id": "d84d2a70-92ad-4d4d-a104-fe57c1835622"
      },
      "outputs": [],
      "source": [
        "df = df[df['Continent'] != 'Invalid country name']"
      ]
    },
    {
      "cell_type": "code",
      "execution_count": null,
      "id": "3d0d8424-4ab8-4dc3-af7c-274bad67470f",
      "metadata": {
        "id": "3d0d8424-4ab8-4dc3-af7c-274bad67470f",
        "outputId": "b764f1fe-e414-4ca0-dbd6-2f6cf8ff7609"
      },
      "outputs": [
        {
          "name": "stdout",
          "output_type": "stream",
          "text": [
            "Continent\n",
            "Asia             544\n",
            "Europe           521\n",
            "Africa           456\n",
            "North America    170\n",
            "South America    149\n",
            "Oceania           28\n",
            "Name: count, dtype: int64\n"
          ]
        }
      ],
      "source": [
        "value_counts = df['Continent'].value_counts()\n",
        "print(value_counts)\n"
      ]
    },
    {
      "cell_type": "markdown",
      "source": [
        "# **Creating The Application Dash**"
      ],
      "metadata": {
        "id": "kT4U_hTGk1-m"
      },
      "id": "kT4U_hTGk1-m"
    },
    {
      "cell_type": "code",
      "execution_count": null,
      "id": "52393128-bf5f-461e-b2ea-d930b2123acb",
      "metadata": {
        "id": "52393128-bf5f-461e-b2ea-d930b2123acb"
      },
      "outputs": [],
      "source": [
        "#define the layout of teh app\n",
        "app.layout = html.Div([\n",
        "    html.H1(\"World Happiness Report Dashboard\", style={'textAlign': 'center'}),\n",
        "\n",
        "    #droping down countrayname\n",
        "    dcc.Dropdown(\n",
        "        id='country-dropdown',\n",
        "        options=[{'label': country, 'value': country} for country in df['Country name'].unique()],\n",
        "        value='Lebanon',\n",
        "        multi=False,\n",
        "        style={'width': '50%'}\n",
        "    ),\n",
        "# Graph for Visualzing Perceptions of corruption\n",
        "    dcc.Graph(id='graph-corruption'),\n",
        "\n",
        "# Dropdown for selecting the Continent\n",
        "    dcc.Dropdown(\n",
        "        id='Continent-dropdown',\n",
        "        options=[{'label': Continent, 'value': Continent} for Continent in df['Continent'].unique()],\n",
        "        value='Asia',\n",
        "        multi=False,\n",
        "        style={'width': '50%'}\n",
        "\n",
        "    ),\n",
        "    dcc.Graph(id='scatter-plot'),\n",
        "])"
      ]
    },
    {
      "cell_type": "code",
      "execution_count": null,
      "id": "a6d3f987-628e-48f8-adcb-ab808ac5accf",
      "metadata": {
        "id": "a6d3f987-628e-48f8-adcb-ab808ac5accf"
      },
      "outputs": [],
      "source": [
        "#Call Back on Line Chart based on Country\n",
        "@app.callback(\n",
        "    Output('graph-corruption', 'figure'),\n",
        "    [Input('country-dropdown', 'value')]\n",
        ")\n",
        "def update_corruption_graph(selected_country):\n",
        "    filtered_df = df[df['Country name'] == selected_country]\n",
        "    fig = px.line(filtered_df, x='year', y='Perceptions of corruption', title=f'Perceptions of corruption in {selected_country}')\n",
        "    return fig"
      ]
    },
    {
      "cell_type": "code",
      "execution_count": null,
      "id": "HtHdrZWNaHwT",
      "metadata": {
        "id": "HtHdrZWNaHwT"
      },
      "outputs": [],
      "source": [
        "#Callback for Continet\n",
        "@app.callback(\n",
        "    Output('scatter-plot', 'figure'),\n",
        "    [Input('Continent-dropdown', 'value')]\n",
        ")\n",
        "def update_scatter_plot(Continent_dropdown):\n",
        "    filtered_df = df[df['Continent'] == Continent_dropdown]\n",
        "    fig=px.scatter(filtered_df, x='Log GDP per capita', y='Life Ladder', color=\"Country name\",\n",
        "                     hover_name='Country name',size='Healthy life expectancy at birth', log_x=True,size_max=60,\n",
        "                     labels={'Log GDP per capita': 'Log GDP per capita', 'Life Ladder': 'Life Ladder' , 'Healthy life expectancy at birth': 'Healthy life expectancy at birth'},\n",
        "                     title=f'Life Ladder vs GDP in {Continent_dropdown}')\n",
        "    fig.update_layout(transition_duration=500)\n",
        "    return fig"
      ]
    },
    {
      "cell_type": "code",
      "execution_count": null,
      "id": "d99a4fd5-7db0-4ac2-a049-34843ba24b96",
      "metadata": {
        "colab": {
          "base_uri": "https://localhost:8080/",
          "height": 17
        },
        "id": "d99a4fd5-7db0-4ac2-a049-34843ba24b96",
        "outputId": "dc8100e9-aac3-44b3-9e22-e555e9e08efd"
      },
      "outputs": [
        {
          "data": {
            "text/html": [
              "\n",
              "        <iframe\n",
              "            width=\"100%\"\n",
              "            height=\"650\"\n",
              "            src=\"http://127.0.0.1:8050/\"\n",
              "            frameborder=\"0\"\n",
              "            allowfullscreen\n",
              "            \n",
              "        ></iframe>\n",
              "        "
            ],
            "text/plain": [
              "<IPython.lib.display.IFrame at 0x2d35cc235f0>"
            ]
          },
          "metadata": {},
          "output_type": "display_data"
        }
      ],
      "source": [
        "# Run the Dash app\n",
        "if __name__ == '__main__':\n",
        "    app.run_server(debug=True)"
      ]
    }
  ],
  "metadata": {
    "colab": {
      "provenance": [],
      "include_colab_link": true
    },
    "kernelspec": {
      "display_name": "Python 3 (ipykernel)",
      "language": "python",
      "name": "python3"
    },
    "language_info": {
      "codemirror_mode": {
        "name": "ipython",
        "version": 3
      },
      "file_extension": ".py",
      "mimetype": "text/x-python",
      "name": "python",
      "nbconvert_exporter": "python",
      "pygments_lexer": "ipython3",
      "version": "3.12.4"
    }
  },
  "nbformat": 4,
  "nbformat_minor": 5
}